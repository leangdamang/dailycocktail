{
 "cells": [
  {
   "cell_type": "code",
   "execution_count": null,
   "metadata": {
    "collapsed": false
   },
   "outputs": [],
   "source": [
    "import smtplib\n",
    "import urllib\n",
    "import CocktailDB as DB\n",
    "from email.mime.image import MIMEImage\n",
    "from email.mime.multipart import MIMEMultipart\n",
    "from email.mime.text import MIMEText\n",
    "\n",
    "def get_emails():\n",
    "    to_emails = {}\n",
    "    try:\n",
    "        emails = open('emails2.txt', 'r')\n",
    "        for email in emails:\n",
    "            (email_address, name) = email.split(',')\n",
    "            to_emails[email_address] = name.strip()\n",
    "        emails.close()\n",
    "        return to_emails\n",
    "    except FileNotFoundException as err:\n",
    "        return err\n",
    "    \n",
    "def mailer(emails, text):\n",
    "    password = input('Password please!')\n",
    "    #connects gmail server\n",
    "    server = smtplib.SMTP('smtp.gmail.com', '587')\n",
    "    #start encryption\n",
    "    server.starttls()\n",
    "    #login\n",
    "    server.login ('leang.chaing@gmail.com', password)\n",
    "    \n",
    "    #send to all emails\n",
    "    msg = MIMEMultipart()\n",
    "    msg['Subject'] = 'Your Daily Cocktail'\n",
    "    msg['From'] = 'leang.chaing@gmail.com'\n",
    "    # Open the files in binary mode.  Let the MIMEImage class automatically\n",
    "    fp = open('image.jpg', 'rb')\n",
    "    img = MIMEImage(fp.read())\n",
    "    fp.close()\n",
    "    msg.attach(img)\n",
    "    msg.attach(MIMEText('Hi!\\n\\n' + \"I made this completely in Python. Drink up!\\n\\n\" + text, 'plain'))\n",
    "    for email in emails.keys():\n",
    "        server.sendmail('leang.chaing@gmail.com', email, msg.as_string())\n",
    "    server.quit()\n",
    "    \n",
    "def main():\n",
    "    email_list = get_emails()\n",
    "    mailer(email_list, DB.print_cocktail())\n",
    "    \n",
    "main()"
   ]
  },
  {
   "cell_type": "code",
   "execution_count": null,
   "metadata": {
    "collapsed": true
   },
   "outputs": [],
   "source": []
  },
  {
   "cell_type": "code",
   "execution_count": null,
   "metadata": {
    "collapsed": true
   },
   "outputs": [],
   "source": []
  },
  {
   "cell_type": "code",
   "execution_count": null,
   "metadata": {
    "collapsed": true
   },
   "outputs": [],
   "source": []
  },
  {
   "cell_type": "code",
   "execution_count": null,
   "metadata": {
    "collapsed": true
   },
   "outputs": [],
   "source": []
  },
  {
   "cell_type": "code",
   "execution_count": null,
   "metadata": {
    "collapsed": true
   },
   "outputs": [],
   "source": []
  }
 ],
 "metadata": {
  "kernelspec": {
   "display_name": "Python 3",
   "language": "python",
   "name": "python3"
  },
  "language_info": {
   "codemirror_mode": {
    "name": "ipython",
    "version": 3
   },
   "file_extension": ".py",
   "mimetype": "text/x-python",
   "name": "python",
   "nbconvert_exporter": "python",
   "pygments_lexer": "ipython3",
   "version": "3.6.0"
  }
 },
 "nbformat": 4,
 "nbformat_minor": 2
}
